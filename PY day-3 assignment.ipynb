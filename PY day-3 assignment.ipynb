{
 "cells": [
  {
   "cell_type": "markdown",
   "id": "7ffabc56",
   "metadata": {},
   "source": [
    "## 1.Find the data type of a if a=9"
   ]
  },
  {
   "cell_type": "code",
   "execution_count": 1,
   "id": "00d4ce0b",
   "metadata": {},
   "outputs": [
    {
     "data": {
      "text/plain": [
       "int"
      ]
     },
     "execution_count": 1,
     "metadata": {},
     "output_type": "execute_result"
    }
   ],
   "source": [
    "a=9\n",
    "type(a)"
   ]
  },
  {
   "cell_type": "markdown",
   "id": "416d3956",
   "metadata": {},
   "source": [
    "## 2.Find the data type of a if a=9"
   ]
  },
  {
   "cell_type": "code",
   "execution_count": 2,
   "id": "f5245cae",
   "metadata": {},
   "outputs": [
    {
     "data": {
      "text/plain": [
       "int"
      ]
     },
     "execution_count": 2,
     "metadata": {},
     "output_type": "execute_result"
    }
   ],
   "source": [
    "a=9\n",
    "type(a)"
   ]
  },
  {
   "cell_type": "markdown",
   "id": "13531701",
   "metadata": {},
   "source": [
    "## 3.Find the data type of a if a='9.'"
   ]
  },
  {
   "cell_type": "code",
   "execution_count": 4,
   "id": "e2ddac30",
   "metadata": {},
   "outputs": [
    {
     "data": {
      "text/plain": [
       "float"
      ]
     },
     "execution_count": 4,
     "metadata": {},
     "output_type": "execute_result"
    }
   ],
   "source": [
    "a=9.\n",
    "type(a)"
   ]
  },
  {
   "cell_type": "markdown",
   "id": "1a9eaf1b",
   "metadata": {},
   "source": [
    "## 4.Find the data type of a if a=(9)"
   ]
  },
  {
   "cell_type": "code",
   "execution_count": 5,
   "id": "ad3a6c21",
   "metadata": {},
   "outputs": [
    {
     "data": {
      "text/plain": [
       "int"
      ]
     },
     "execution_count": 5,
     "metadata": {},
     "output_type": "execute_result"
    }
   ],
   "source": [
    "a=(9)\n",
    "type(a)"
   ]
  },
  {
   "cell_type": "markdown",
   "id": "d6e47466",
   "metadata": {},
   "source": [
    "## 5.Find the data type of a if a=False"
   ]
  },
  {
   "cell_type": "code",
   "execution_count": 6,
   "id": "937f5192",
   "metadata": {},
   "outputs": [
    {
     "data": {
      "text/plain": [
       "bool"
      ]
     },
     "execution_count": 6,
     "metadata": {},
     "output_type": "execute_result"
    }
   ],
   "source": [
    "a=False\n",
    "type(a)"
   ]
  },
  {
   "cell_type": "markdown",
   "id": "6aacdae9",
   "metadata": {},
   "source": [
    "## 6.Find the data type of a if a=[1,2,3]"
   ]
  },
  {
   "cell_type": "code",
   "execution_count": 7,
   "id": "5c296026",
   "metadata": {},
   "outputs": [
    {
     "data": {
      "text/plain": [
       "list"
      ]
     },
     "execution_count": 7,
     "metadata": {},
     "output_type": "execute_result"
    }
   ],
   "source": [
    "a=[1,2,3]\n",
    "type(a)"
   ]
  },
  {
   "cell_type": "markdown",
   "id": "2c3f37a4",
   "metadata": {},
   "source": [
    "## 7.Find the data type of a if a=(1,2,3)"
   ]
  },
  {
   "cell_type": "code",
   "execution_count": 8,
   "id": "73284452",
   "metadata": {},
   "outputs": [
    {
     "data": {
      "text/plain": [
       "tuple"
      ]
     },
     "execution_count": 8,
     "metadata": {},
     "output_type": "execute_result"
    }
   ],
   "source": [
    "a=(1,2,3)\n",
    "type(a)"
   ]
  },
  {
   "cell_type": "markdown",
   "id": "f078cf1a",
   "metadata": {},
   "source": [
    "## 8.Find the data type of a if a={'key': 9}"
   ]
  },
  {
   "cell_type": "code",
   "execution_count": 9,
   "id": "3f4167a2",
   "metadata": {},
   "outputs": [
    {
     "data": {
      "text/plain": [
       "dict"
      ]
     },
     "execution_count": 9,
     "metadata": {},
     "output_type": "execute_result"
    }
   ],
   "source": [
    "a={'key':9}\n",
    "type(a)"
   ]
  },
  {
   "cell_type": "markdown",
   "id": "26f92f19",
   "metadata": {},
   "source": [
    "## 9.Find the data type of a if a=1 + 9j"
   ]
  },
  {
   "cell_type": "code",
   "execution_count": 10,
   "id": "63b497d2",
   "metadata": {},
   "outputs": [
    {
     "data": {
      "text/plain": [
       "complex"
      ]
     },
     "execution_count": 10,
     "metadata": {},
     "output_type": "execute_result"
    }
   ],
   "source": [
    "a=1+9j\n",
    "type(a)"
   ]
  },
  {
   "cell_type": "markdown",
   "id": "24c1a6b6",
   "metadata": {},
   "source": [
    "## 10.Set a=1 and b=2. What data type is a/b"
   ]
  },
  {
   "cell_type": "code",
   "execution_count": 11,
   "id": "92140c37",
   "metadata": {},
   "outputs": [
    {
     "data": {
      "text/plain": [
       "float"
      ]
     },
     "execution_count": 11,
     "metadata": {},
     "output_type": "execute_result"
    }
   ],
   "source": [
    "a=1\n",
    "b=2\n",
    "c=a/b\n",
    "type(c)"
   ]
  },
  {
   "cell_type": "markdown",
   "id": "e1412ff7",
   "metadata": {},
   "source": [
    "## 11.Create a dictionary numbers = {'one':1, 'two':2, 'three':3}. Pull out the number '2' by calling the key 'two'"
   ]
  },
  {
   "cell_type": "code",
   "execution_count": 12,
   "id": "5e2ae094",
   "metadata": {},
   "outputs": [
    {
     "data": {
      "text/plain": [
       "2"
      ]
     },
     "execution_count": 12,
     "metadata": {},
     "output_type": "execute_result"
    }
   ],
   "source": [
    "a={'one':1, 'two':2, 'three':3}\n",
    "a['two']"
   ]
  },
  {
   "cell_type": "markdown",
   "id": "f0d7519e",
   "metadata": {},
   "source": [
    "## 12.Create a tuple with the numbers 8, 9, and 10?"
   ]
  },
  {
   "cell_type": "code",
   "execution_count": 13,
   "id": "84a30d38",
   "metadata": {},
   "outputs": [
    {
     "data": {
      "text/plain": [
       "tuple"
      ]
     },
     "execution_count": 13,
     "metadata": {},
     "output_type": "execute_result"
    }
   ],
   "source": [
    "a=(8,9,10)\n",
    "type(a)"
   ]
  },
  {
   "cell_type": "markdown",
   "id": "9847ba8b",
   "metadata": {},
   "source": [
    "## 13.Run the following lines of code and explain the error in your own words. Then rewrite the lines of code to run error free:"
   ]
  },
  {
   "cell_type": "code",
   "execution_count": 14,
   "id": "ea4ddbbe",
   "metadata": {},
   "outputs": [
    {
     "data": {
      "text/plain": [
       "1"
      ]
     },
     "execution_count": 14,
     "metadata": {},
     "output_type": "execute_result"
    }
   ],
   "source": [
    "d = {'one':1, 'two':2, 'three':3}\n",
    "d['one'] ##NameError, When writing a function with a name, we often miss to call the exact function name in the future"
   ]
  },
  {
   "cell_type": "markdown",
   "id": "134bd8c0",
   "metadata": {},
   "source": [
    "## 14.Run the following lines of code and explain the error in your own words. Then rewrite the lines of code to run error free:"
   ]
  },
  {
   "cell_type": "code",
   "execution_count": 15,
   "id": "8872dc2a",
   "metadata": {},
   "outputs": [
    {
     "data": {
      "text/plain": [
       "True"
      ]
     },
     "execution_count": 15,
     "metadata": {},
     "output_type": "execute_result"
    }
   ],
   "source": [
    "f = False \n",
    "not f ##SyntaxError, it usually means you've misplaced a symbol or letter somewhere in your code."
   ]
  },
  {
   "cell_type": "markdown",
   "id": "ce3dece9",
   "metadata": {},
   "source": [
    "## 15.Run the following lines of code and explain the error in your own words. Then rewrite the lines of code to run error free:"
   ]
  },
  {
   "cell_type": "code",
   "execution_count": 16,
   "id": "b10937f0",
   "metadata": {},
   "outputs": [
    {
     "data": {
      "text/plain": [
       "5"
      ]
     },
     "execution_count": 16,
     "metadata": {},
     "output_type": "execute_result"
    }
   ],
   "source": [
    "lst = [1,3,5] \n",
    "lst[2] ##IndexError, list index out of range. We can break down the text a little bit. We can see here that the message tells us that the index is out of range"
   ]
  }
 ],
 "metadata": {
  "kernelspec": {
   "display_name": "Python 3 (ipykernel)",
   "language": "python",
   "name": "python3"
  },
  "language_info": {
   "codemirror_mode": {
    "name": "ipython",
    "version": 3
   },
   "file_extension": ".py",
   "mimetype": "text/x-python",
   "name": "python",
   "nbconvert_exporter": "python",
   "pygments_lexer": "ipython3",
   "version": "3.9.10"
  }
 },
 "nbformat": 4,
 "nbformat_minor": 5
}
